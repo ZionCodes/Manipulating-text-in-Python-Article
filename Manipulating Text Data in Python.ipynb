{
 "cells": [
  {
   "cell_type": "code",
   "execution_count": 66,
   "id": "7ad696f3",
   "metadata": {},
   "outputs": [],
   "source": [
    "import pandas as pd\n",
    "\n",
    "df = pd.DataFrame({\n",
    "    \"names\": [\"John,Doe\",\"Jane,Don\",\"Jen,Den\",\"Jade,Dow\",\"Jair,Dell\"],\n",
    "    \"group\": [\"PuRpLE\",\"YELLOW\",\"yellow\",\"GREEN\",\"purple\"],\n",
    "    \"sex\": [\"male\",\"female\",\"female\",\"male\",\"male\"]\n",
    "})\n",
    "\n"
   ]
  },
  {
   "cell_type": "code",
   "execution_count": 67,
   "id": "4bb63ba6",
   "metadata": {},
   "outputs": [
    {
     "data": {
      "text/html": [
       "<div>\n",
       "<style scoped>\n",
       "    .dataframe tbody tr th:only-of-type {\n",
       "        vertical-align: middle;\n",
       "    }\n",
       "\n",
       "    .dataframe tbody tr th {\n",
       "        vertical-align: top;\n",
       "    }\n",
       "\n",
       "    .dataframe thead th {\n",
       "        text-align: right;\n",
       "    }\n",
       "</style>\n",
       "<table border=\"1\" class=\"dataframe\">\n",
       "  <thead>\n",
       "    <tr style=\"text-align: right;\">\n",
       "      <th></th>\n",
       "      <th>names</th>\n",
       "      <th>group</th>\n",
       "      <th>sex</th>\n",
       "    </tr>\n",
       "  </thead>\n",
       "  <tbody>\n",
       "    <tr>\n",
       "      <th>0</th>\n",
       "      <td>John,Doe</td>\n",
       "      <td>PuRpLE</td>\n",
       "      <td>male</td>\n",
       "    </tr>\n",
       "    <tr>\n",
       "      <th>1</th>\n",
       "      <td>Jane,Don</td>\n",
       "      <td>YELLOW</td>\n",
       "      <td>female</td>\n",
       "    </tr>\n",
       "    <tr>\n",
       "      <th>2</th>\n",
       "      <td>Jen,Den</td>\n",
       "      <td>yellow</td>\n",
       "      <td>female</td>\n",
       "    </tr>\n",
       "    <tr>\n",
       "      <th>3</th>\n",
       "      <td>Jade,Dow</td>\n",
       "      <td>GREEN</td>\n",
       "      <td>male</td>\n",
       "    </tr>\n",
       "    <tr>\n",
       "      <th>4</th>\n",
       "      <td>Jair,Dell</td>\n",
       "      <td>purple</td>\n",
       "      <td>male</td>\n",
       "    </tr>\n",
       "  </tbody>\n",
       "</table>\n",
       "</div>"
      ],
      "text/plain": [
       "       names   group     sex\n",
       "0   John,Doe  PuRpLE    male\n",
       "1   Jane,Don  YELLOW  female\n",
       "2    Jen,Den  yellow  female\n",
       "3   Jade,Dow   GREEN    male\n",
       "4  Jair,Dell  purple    male"
      ]
     },
     "execution_count": 67,
     "metadata": {},
     "output_type": "execute_result"
    }
   ],
   "source": [
    "df"
   ]
  },
  {
   "cell_type": "markdown",
   "id": "e091b6b5",
   "metadata": {},
   "source": [
    "### Lowercase"
   ]
  },
  {
   "cell_type": "code",
   "execution_count": 68,
   "id": "5731a93e",
   "metadata": {},
   "outputs": [
    {
     "data": {
      "text/plain": [
       "0    purple\n",
       "1    yellow\n",
       "2    yellow\n",
       "3     green\n",
       "4    purple\n",
       "Name: group, dtype: object"
      ]
     },
     "execution_count": 68,
     "metadata": {},
     "output_type": "execute_result"
    }
   ],
   "source": [
    "df['group'].str.lower()"
   ]
  },
  {
   "cell_type": "markdown",
   "id": "5fafffe7",
   "metadata": {},
   "source": [
    "### Uppercase"
   ]
  },
  {
   "cell_type": "code",
   "execution_count": 69,
   "id": "d80c243d",
   "metadata": {},
   "outputs": [
    {
     "data": {
      "text/plain": [
       "0    PURPLE\n",
       "1    YELLOW\n",
       "2    YELLOW\n",
       "3     GREEN\n",
       "4    PURPLE\n",
       "Name: group, dtype: object"
      ]
     },
     "execution_count": 69,
     "metadata": {},
     "output_type": "execute_result"
    }
   ],
   "source": [
    "df['group'].str.upper()"
   ]
  },
  {
   "cell_type": "markdown",
   "id": "b50c121a",
   "metadata": {},
   "source": [
    "### Capitalize"
   ]
  },
  {
   "cell_type": "code",
   "execution_count": 70,
   "id": "8b797434",
   "metadata": {},
   "outputs": [
    {
     "data": {
      "text/plain": [
       "0    Purple\n",
       "1    Yellow\n",
       "2    Yellow\n",
       "3     Green\n",
       "4    Purple\n",
       "Name: group, dtype: object"
      ]
     },
     "execution_count": 70,
     "metadata": {},
     "output_type": "execute_result"
    }
   ],
   "source": [
    "df['group'].str.capitalize()"
   ]
  },
  {
   "cell_type": "code",
   "execution_count": 59,
   "id": "cbfd7253",
   "metadata": {},
   "outputs": [],
   "source": [
    "df['group'] = df['group'].str.capitalize()"
   ]
  },
  {
   "cell_type": "markdown",
   "id": "7b95dc6f",
   "metadata": {},
   "source": [
    "### Find length of string"
   ]
  },
  {
   "cell_type": "code",
   "execution_count": 51,
   "id": "cda03e9c",
   "metadata": {},
   "outputs": [
    {
     "data": {
      "text/plain": [
       "0    6\n",
       "1    6\n",
       "2    6\n",
       "3    5\n",
       "4    6\n",
       "Name: group, dtype: int64"
      ]
     },
     "execution_count": 51,
     "metadata": {},
     "output_type": "execute_result"
    }
   ],
   "source": [
    "df['group'].str.len()"
   ]
  },
  {
   "cell_type": "markdown",
   "id": "630cbc77",
   "metadata": {},
   "source": [
    "### Filter based on length of Strings"
   ]
  },
  {
   "cell_type": "code",
   "execution_count": 52,
   "id": "5ec158ab",
   "metadata": {
    "scrolled": true
   },
   "outputs": [
    {
     "data": {
      "text/html": [
       "<div>\n",
       "<style scoped>\n",
       "    .dataframe tbody tr th:only-of-type {\n",
       "        vertical-align: middle;\n",
       "    }\n",
       "\n",
       "    .dataframe tbody tr th {\n",
       "        vertical-align: top;\n",
       "    }\n",
       "\n",
       "    .dataframe thead th {\n",
       "        text-align: right;\n",
       "    }\n",
       "</style>\n",
       "<table border=\"1\" class=\"dataframe\">\n",
       "  <thead>\n",
       "    <tr style=\"text-align: right;\">\n",
       "      <th></th>\n",
       "      <th>names</th>\n",
       "      <th>group</th>\n",
       "      <th>sex</th>\n",
       "    </tr>\n",
       "  </thead>\n",
       "  <tbody>\n",
       "    <tr>\n",
       "      <th>0</th>\n",
       "      <td>John,Doe</td>\n",
       "      <td>PuRpLE</td>\n",
       "      <td>male</td>\n",
       "    </tr>\n",
       "    <tr>\n",
       "      <th>1</th>\n",
       "      <td>jane,don</td>\n",
       "      <td>YELLOW</td>\n",
       "      <td>female</td>\n",
       "    </tr>\n",
       "    <tr>\n",
       "      <th>2</th>\n",
       "      <td>Jen,den</td>\n",
       "      <td>yellow</td>\n",
       "      <td>female</td>\n",
       "    </tr>\n",
       "    <tr>\n",
       "      <th>4</th>\n",
       "      <td>Jair,Dell</td>\n",
       "      <td>purple</td>\n",
       "      <td>male</td>\n",
       "    </tr>\n",
       "  </tbody>\n",
       "</table>\n",
       "</div>"
      ],
      "text/plain": [
       "       names   group     sex\n",
       "0   John,Doe  PuRpLE    male\n",
       "1   jane,don  YELLOW  female\n",
       "2    Jen,den  yellow  female\n",
       "4  Jair,Dell  purple    male"
      ]
     },
     "execution_count": 52,
     "metadata": {},
     "output_type": "execute_result"
    }
   ],
   "source": [
    "df[(df['group'].str.len() > 5)]"
   ]
  },
  {
   "cell_type": "markdown",
   "id": "99c95f62",
   "metadata": {},
   "source": [
    "### Replace"
   ]
  },
  {
   "cell_type": "code",
   "execution_count": 71,
   "id": "1beb1934",
   "metadata": {},
   "outputs": [
    {
     "data": {
      "text/html": [
       "<div>\n",
       "<style scoped>\n",
       "    .dataframe tbody tr th:only-of-type {\n",
       "        vertical-align: middle;\n",
       "    }\n",
       "\n",
       "    .dataframe tbody tr th {\n",
       "        vertical-align: top;\n",
       "    }\n",
       "\n",
       "    .dataframe thead th {\n",
       "        text-align: right;\n",
       "    }\n",
       "</style>\n",
       "<table border=\"1\" class=\"dataframe\">\n",
       "  <thead>\n",
       "    <tr style=\"text-align: right;\">\n",
       "      <th></th>\n",
       "      <th>names</th>\n",
       "      <th>group</th>\n",
       "      <th>sex</th>\n",
       "    </tr>\n",
       "  </thead>\n",
       "  <tbody>\n",
       "    <tr>\n",
       "      <th>0</th>\n",
       "      <td>John,Doe</td>\n",
       "      <td>PuRpLE</td>\n",
       "      <td>M</td>\n",
       "    </tr>\n",
       "    <tr>\n",
       "      <th>1</th>\n",
       "      <td>Jane,Don</td>\n",
       "      <td>YELLOW</td>\n",
       "      <td>F</td>\n",
       "    </tr>\n",
       "    <tr>\n",
       "      <th>2</th>\n",
       "      <td>Jen,Den</td>\n",
       "      <td>yellow</td>\n",
       "      <td>F</td>\n",
       "    </tr>\n",
       "    <tr>\n",
       "      <th>3</th>\n",
       "      <td>Jade,Dow</td>\n",
       "      <td>GREEN</td>\n",
       "      <td>M</td>\n",
       "    </tr>\n",
       "    <tr>\n",
       "      <th>4</th>\n",
       "      <td>Jair,Dell</td>\n",
       "      <td>purple</td>\n",
       "      <td>M</td>\n",
       "    </tr>\n",
       "  </tbody>\n",
       "</table>\n",
       "</div>"
      ],
      "text/plain": [
       "       names   group sex\n",
       "0   John,Doe  PuRpLE   M\n",
       "1   Jane,Don  YELLOW   F\n",
       "2    Jen,Den  yellow   F\n",
       "3   Jade,Dow   GREEN   M\n",
       "4  Jair,Dell  purple   M"
      ]
     },
     "execution_count": 71,
     "metadata": {},
     "output_type": "execute_result"
    }
   ],
   "source": [
    "df['sex'] = df[\"sex\"].replace({\"male\": \"M\", \"female\": \"F\"})\n",
    "df"
   ]
  },
  {
   "cell_type": "markdown",
   "id": "c251aae8",
   "metadata": {},
   "source": [
    "### Split"
   ]
  },
  {
   "cell_type": "code",
   "execution_count": 72,
   "id": "f85a6186",
   "metadata": {},
   "outputs": [
    {
     "data": {
      "text/plain": [
       "0     [John, Doe]\n",
       "1     [Jane, Don]\n",
       "2      [Jen, Den]\n",
       "3     [Jade, Dow]\n",
       "4    [Jair, Dell]\n",
       "Name: names, dtype: object"
      ]
     },
     "execution_count": 72,
     "metadata": {},
     "output_type": "execute_result"
    }
   ],
   "source": [
    "df['names'].str.split(',')"
   ]
  },
  {
   "cell_type": "markdown",
   "id": "dd1d14d1",
   "metadata": {},
   "source": [
    "### Assign First and Second elements to first_name and last_name"
   ]
  },
  {
   "cell_type": "code",
   "execution_count": 73,
   "id": "ff49307a",
   "metadata": {},
   "outputs": [],
   "source": [
    "df[\"first_name\"] = df[\"names\"].str.split(\",\").str.get(0)\n",
    "df[\"last_name\"] = df[\"names\"].str.split(\",\").str.get(1)\n"
   ]
  },
  {
   "cell_type": "code",
   "execution_count": 74,
   "id": "0b016a9b",
   "metadata": {},
   "outputs": [
    {
     "data": {
      "text/html": [
       "<div>\n",
       "<style scoped>\n",
       "    .dataframe tbody tr th:only-of-type {\n",
       "        vertical-align: middle;\n",
       "    }\n",
       "\n",
       "    .dataframe tbody tr th {\n",
       "        vertical-align: top;\n",
       "    }\n",
       "\n",
       "    .dataframe thead th {\n",
       "        text-align: right;\n",
       "    }\n",
       "</style>\n",
       "<table border=\"1\" class=\"dataframe\">\n",
       "  <thead>\n",
       "    <tr style=\"text-align: right;\">\n",
       "      <th></th>\n",
       "      <th>names</th>\n",
       "      <th>group</th>\n",
       "      <th>sex</th>\n",
       "      <th>first_name</th>\n",
       "      <th>last_name</th>\n",
       "    </tr>\n",
       "  </thead>\n",
       "  <tbody>\n",
       "    <tr>\n",
       "      <th>0</th>\n",
       "      <td>John,Doe</td>\n",
       "      <td>PuRpLE</td>\n",
       "      <td>M</td>\n",
       "      <td>John</td>\n",
       "      <td>Doe</td>\n",
       "    </tr>\n",
       "    <tr>\n",
       "      <th>1</th>\n",
       "      <td>Jane,Don</td>\n",
       "      <td>YELLOW</td>\n",
       "      <td>F</td>\n",
       "      <td>Jane</td>\n",
       "      <td>Don</td>\n",
       "    </tr>\n",
       "    <tr>\n",
       "      <th>2</th>\n",
       "      <td>Jen,Den</td>\n",
       "      <td>yellow</td>\n",
       "      <td>F</td>\n",
       "      <td>Jen</td>\n",
       "      <td>Den</td>\n",
       "    </tr>\n",
       "    <tr>\n",
       "      <th>3</th>\n",
       "      <td>Jade,Dow</td>\n",
       "      <td>GREEN</td>\n",
       "      <td>M</td>\n",
       "      <td>Jade</td>\n",
       "      <td>Dow</td>\n",
       "    </tr>\n",
       "    <tr>\n",
       "      <th>4</th>\n",
       "      <td>Jair,Dell</td>\n",
       "      <td>purple</td>\n",
       "      <td>M</td>\n",
       "      <td>Jair</td>\n",
       "      <td>Dell</td>\n",
       "    </tr>\n",
       "  </tbody>\n",
       "</table>\n",
       "</div>"
      ],
      "text/plain": [
       "       names   group sex first_name last_name\n",
       "0   John,Doe  PuRpLE   M       John       Doe\n",
       "1   Jane,Don  YELLOW   F       Jane       Don\n",
       "2    Jen,Den  yellow   F        Jen       Den\n",
       "3   Jade,Dow   GREEN   M       Jade       Dow\n",
       "4  Jair,Dell  purple   M       Jair      Dell"
      ]
     },
     "execution_count": 74,
     "metadata": {},
     "output_type": "execute_result"
    }
   ],
   "source": [
    "df"
   ]
  },
  {
   "cell_type": "markdown",
   "id": "fec5d78d",
   "metadata": {},
   "source": [
    "### Concat"
   ]
  },
  {
   "cell_type": "code",
   "execution_count": 75,
   "id": "6e8756a1",
   "metadata": {},
   "outputs": [
    {
     "data": {
      "text/plain": [
       "0    John-PuRpLE\n",
       "1    Jane-YELLOW\n",
       "2     Jen-yellow\n",
       "3     Jade-GREEN\n",
       "4    Jair-purple\n",
       "Name: first_name, dtype: object"
      ]
     },
     "execution_count": 75,
     "metadata": {},
     "output_type": "execute_result"
    }
   ],
   "source": [
    "df['first_name'].str.cat(df['group'], sep='-')"
   ]
  },
  {
   "cell_type": "code",
   "execution_count": null,
   "id": "2af0505c",
   "metadata": {},
   "outputs": [],
   "source": []
  }
 ],
 "metadata": {
  "kernelspec": {
   "display_name": "Python 3 (ipykernel)",
   "language": "python",
   "name": "python3"
  },
  "language_info": {
   "codemirror_mode": {
    "name": "ipython",
    "version": 3
   },
   "file_extension": ".py",
   "mimetype": "text/x-python",
   "name": "python",
   "nbconvert_exporter": "python",
   "pygments_lexer": "ipython3",
   "version": "3.9.12"
  }
 },
 "nbformat": 4,
 "nbformat_minor": 5
}
